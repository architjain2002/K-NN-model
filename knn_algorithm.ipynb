{
 "cells": [
  {
   "cell_type": "code",
   "execution_count": 58,
   "source": [
    "import numpy as np \r\n",
    "import pandas as pd \r\n",
    "import matplotlib.pyplot as mtp"
   ],
   "outputs": [],
   "metadata": {}
  },
  {
   "cell_type": "code",
   "execution_count": 59,
   "source": [
    "dataset = pd.read_csv(\"../../../dataset/Social_Network_Ads.csv\")"
   ],
   "outputs": [],
   "metadata": {}
  },
  {
   "cell_type": "code",
   "execution_count": 60,
   "source": [
    "X = dataset.iloc[:,[2,3]].values\r\n",
    "Y = dataset.iloc[:,4].values"
   ],
   "outputs": [],
   "metadata": {}
  },
  {
   "cell_type": "code",
   "execution_count": 61,
   "source": [
    "from sklearn.model_selection import train_test_split\r\n",
    "X_train,X_test,Y_train,Y_test = train_test_split(X,Y,test_size=0.1,random_state=0)\r\n",
    "from sklearn.preprocessing import StandardScaler\r\n",
    "sc_X = StandardScaler()\r\n",
    "X_train = sc_X.fit_transform(X_train)\r\n",
    "X_test = sc_X.fit_transform(X_test)"
   ],
   "outputs": [],
   "metadata": {}
  },
  {
   "cell_type": "code",
   "execution_count": 62,
   "source": [
    "from sklearn.neighbors import KNeighborsClassifier\r\n",
    "classifier = KNeighborsClassifier(n_neighbors = 5, metric= 'minkowski', p = 2 )\r\n",
    "classifier.fit(X_train, Y_train)"
   ],
   "outputs": [
    {
     "output_type": "execute_result",
     "data": {
      "text/plain": [
       "KNeighborsClassifier()"
      ]
     },
     "metadata": {},
     "execution_count": 62
    }
   ],
   "metadata": {}
  },
  {
   "cell_type": "code",
   "execution_count": 63,
   "source": [
    "Y_pred = classifier.predict(X_test)\r\n",
    "Y_pred"
   ],
   "outputs": [
    {
     "output_type": "execute_result",
     "data": {
      "text/plain": [
       "array([0, 0, 0, 0, 0, 0, 0, 1, 0, 1, 0, 0, 0, 0, 0, 1, 0, 0, 1, 0, 0, 1,\n",
       "       1, 1, 0, 1, 0, 0, 0, 0, 0, 0, 1, 0, 0, 0, 0, 0, 0, 1], dtype=int64)"
      ]
     },
     "metadata": {},
     "execution_count": 63
    }
   ],
   "metadata": {}
  },
  {
   "cell_type": "code",
   "execution_count": 64,
   "source": [
    "Y_test"
   ],
   "outputs": [
    {
     "output_type": "execute_result",
     "data": {
      "text/plain": [
       "array([0, 0, 0, 0, 0, 0, 0, 1, 0, 0, 0, 0, 0, 0, 0, 0, 0, 0, 1, 0, 0, 1,\n",
       "       0, 1, 0, 1, 0, 0, 0, 0, 0, 1, 1, 0, 0, 0, 0, 0, 0, 1], dtype=int64)"
      ]
     },
     "metadata": {},
     "execution_count": 64
    }
   ],
   "metadata": {}
  },
  {
   "cell_type": "code",
   "execution_count": 65,
   "source": [
    "from sklearn.metrics import confusion_matrix\r\n",
    "cm = confusion_matrix(Y_test,Y_pred)\r\n",
    "cm"
   ],
   "outputs": [
    {
     "output_type": "execute_result",
     "data": {
      "text/plain": [
       "array([[29,  3],\n",
       "       [ 1,  7]], dtype=int64)"
      ]
     },
     "metadata": {},
     "execution_count": 65
    }
   ],
   "metadata": {}
  },
  {
   "cell_type": "code",
   "execution_count": 67,
   "source": [
    "from matplotlib.colors import ListedColormap  \r\n",
    "x_set, y_set = X_train, Y_train  \r\n",
    "x1, x2 = np.meshgrid(np.arange(start = x_set[:, 0].min() - 1, stop = x_set[:, 0].max() + 1, step  =0.01),np.arange(start = x_set[:, 1].min() - 1, stop = x_set[:, 1].max() + 1, step = 0.01))  \r\n",
    "mtp.contourf(x1, x2, classifier.predict(np.array([x1.ravel(), x2.ravel()]).T).reshape(x1.shape), alpha = 0.75, cmap = ListedColormap(('purple','green' ))) \r\n",
    "\r\n",
    "mtp.xlim(x1.min(), x1.max())  \r\n",
    "mtp.ylim(x2.min(), x2.max())  \r\n",
    "for i, j in enumerate(np.unique(y_set)):  \r\n",
    "    mtp.scatter(x_set[y_set == j, 0], x_set[y_set == j, 1],  \r\n",
    "        c = ListedColormap(('purple', 'green'))(i), label = j)  \r\n",
    "mtp.title('KNN classifier(Training set)')  \r\n",
    "# mtp.xlabel('Age')  \r\n",
    "# mtp.ylabel('Estimated Salary')  \r\n",
    "mtp.legend()  \r\n",
    "mtp.show()  "
   ],
   "outputs": [
    {
     "output_type": "stream",
     "name": "stderr",
     "text": [
      "*c* argument looks like a single numeric RGB or RGBA sequence, which should be avoided as value-mapping will have precedence in case its length matches with *x* & *y*.  Please use the *color* keyword-argument or provide a 2D array with a single row if you intend to specify the same RGB or RGBA value for all points.\n",
      "*c* argument looks like a single numeric RGB or RGBA sequence, which should be avoided as value-mapping will have precedence in case its length matches with *x* & *y*.  Please use the *color* keyword-argument or provide a 2D array with a single row if you intend to specify the same RGB or RGBA value for all points.\n"
     ]
    },
    {
     "output_type": "display_data",
     "data": {
      "text/plain": [
       "<Figure size 432x288 with 1 Axes>"
      ],
      "image/png": "[encoded data removed]"
     },
     "metadata": {
      "needs_background": "light"
     }
    }
   ],
   "metadata": {}
  },
  {
   "cell_type": "code",
   "execution_count": null,
   "source": [
    "from matplotlib.colors import ListedColormap  \r\n",
    "x_set, y_set = X_test, Y_test  \r\n",
    "x1, x2 = np.meshgrid(np.arange(start = x_set[:, 0].min() - 1, stop = x_set[:, 0].max() + 1, step  =0.01),np.arange(start = x_set[:, 1].min() - 1, stop = x_set[:, 1].max() + 1, step = 0.01))  \r\n",
    "mtp.contourf(x1, x2, classifier.predict(np.array([x1.ravel(), x2.ravel()]).T).reshape(x1.shape), alpha = 0.75, cmap = ListedColormap(('purple','green' ))) \r\n",
    "\r\n",
    "mtp.xlim(x1.min(), x1.max())  \r\n",
    "mtp.ylim(x2.min(), x2.max())  \r\n",
    "for i, j in enumerate(np.unique(y_set)):  \r\n",
    "    mtp.scatter(x_set[y_set == j, 0], x_set[y_set == j, 1],  \r\n",
    "        c = ListedColormap(('purple', 'green'))(i), label = j)  \r\n",
    "mtp.title('KNN classifier(Test set)')  \r\n",
    "# mtp.xlabel('Age')  \r\n",
    "# mtp.ylabel('Estimated Salary')  \r\n",
    "mtp.legend()  \r\n",
    "mtp.show()  "
   ],
   "outputs": [],
   "metadata": {}
  }
 ],
 "metadata": {
  "orig_nbformat": 4,
  "language_info": {
   "name": "python",
   "version": "3.9.6",
   "mimetype": "text/x-python",
   "codemirror_mode": {
    "name": "ipython",
    "version": 3
   },
   "pygments_lexer": "ipython3",
   "nbconvert_exporter": "python",
   "file_extension": ".py"
  },
  "kernelspec": {
   "name": "python3",
   "display_name": "Python 3.9.6 64-bit"
  },
  "interpreter": {
   "hash": "aa16eebc24a407bf27ad521d6867b38fcb0dc59326f83deff352e5076124f736"
  }
 },
 "nbformat": 4,
 "nbformat_minor": 2
}